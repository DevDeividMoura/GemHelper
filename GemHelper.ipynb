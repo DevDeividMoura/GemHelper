{
  "nbformat": 4,
  "nbformat_minor": 0,
  "metadata": {
    "colab": {
      "provenance": [],
      "authorship_tag": "ABX9TyO+lI7EAsuQiOxshyPxJ1EI",
      "include_colab_link": true
    },
    "kernelspec": {
      "name": "python3",
      "display_name": "Python 3"
    },
    "language_info": {
      "name": "python"
    }
  },
  "cells": [
    {
      "cell_type": "markdown",
      "metadata": {
        "id": "view-in-github",
        "colab_type": "text"
      },
      "source": [
        "<a href=\"https://colab.research.google.com/github/DevDeividMoura/GemHelper/blob/main/GemHelper.ipynb\" target=\"_parent\"><img src=\"https://colab.research.google.com/assets/colab-badge.svg\" alt=\"Open In Colab\"/></a>"
      ]
    },
    {
      "cell_type": "markdown",
      "source": [
        "# GemHelper - O Assistente Ideal para Otimizar a UX da Sua Empresa\n",
        "\n",
        "## Autoria\n",
        "- **Autor:** Deivid Alexsander Carvalho Moura\n",
        "- **Evento:** Imersão AI Alura + Google\n",
        "- **Data:** 11/05/2024\n",
        "- **Contato:** www.linkedin.com/in/devdeividmoura\n",
        "\n"
      ],
      "metadata": {
        "id": "YjHcIejVbZCw"
      }
    },
    {
      "cell_type": "markdown",
      "source": [
        "## 1 - Introdução\n",
        "\n",
        "\n",
        "### 1.1 - Contexto\n",
        "\n",
        "Atualmente, muitas empresas utilizam sistemas automatizados de atendimento ao cliente, como bots, para gerenciar as primeiras interações com os usuários. Essa abordagem ajuda a reduzir a carga de trabalho sobre atendentes humanos e acelerar a resolução de questões simples. No entanto, nem todas as solicitações podem ser completamente resolvidas por bots, levando à necessidade de transferir a interação para um atendente humano. Esta transferência frequentemente exige que o atendente releia toda a interação anterior do usuário com o bot ou com outros atendentes para entender o contexto da solicitação e identificar o cliente, um processo que consome tempo valioso e reduz a eficiência do atendimento.\n",
        "\n",
        "### 1.2 - Problema\n",
        "\n",
        "A revisão do histórico de chat pelo atendente não apenas consome tempo, mas também pode levar à repetição de perguntas já respondidas, frustrando o cliente e tornando a experiência menos produtiva e agradável. A necessidade de otimizar esse processo é clara, tanto para melhorar a eficiência dos atendentes quanto para elevar a satisfação do cliente.\n",
        "\n",
        "### 1.3 - Solução Proposta\n",
        "Este projeto visa desenvolver um modelo de inteligência artificial que possa automaticamente gerar um resumo conciso do histórico de chat entre o cliente e o sistema de atendimento (bots e atendentes anteriores). O resumo incluirá pontos-chave como a identificação do cliente, a natureza da solicitação, o status atual do atendimento e os próximos passos recomendados. Com isso, pretendemos reduzir significativamente o tempo necessário para que novos atendentes se familiarizem com o contexto de cada caso, acelerando o processo de atendimento e melhorando a experiência do usuário.\n",
        "\n",
        "### 1.4 - Metodologia\n",
        "Para alcançar este objetivo, utilizaremos uma combinação de técnicas de \"Chain of Thoughts\" (Cadeia de Pensamentos) e aprendizado por few-shot. Isso envolve treinar o modelo em exemplos de interações de chat junto com resumos estruturados que destacam informações essenciais. O modelo, portanto, aprenderá a identificar e extrair as informações mais relevantes dos diálogos, formatando-as em um resumo útil e prático."
      ],
      "metadata": {
        "id": "u9JQeb5Igl98"
      }
    },
    {
      "cell_type": "markdown",
      "source": [
        "## 2 - Preparando o modelo Gemini\n",
        "### 2.1 - Importação e Configurações do Modelo\n",
        "\n",
        "Neste notebook, o modelo Gemini 1.5 pro é usado atraves da API do Google Cloud e manipulado com o SDK oficial disponibilizado pelo google.\n",
        "\n"
      ],
      "metadata": {
        "id": "NSyqDKBSbxJY"
      }
    },
    {
      "cell_type": "code",
      "source": [
        "import google.generativeai as genai\n",
        "from google.colab import userdata\n",
        "\n",
        "API_KEY = userdata.get(\"API_KEY\")\n",
        "genai.configure(api_key=API_KEY)\n",
        "\n",
        "MODEL_NAME = \"gemini-1.5-pro-latest\"\n",
        "\n",
        "generation_config = {\n",
        "  \"temperature\": 1,\n",
        "  \"top_p\": 0.98,\n",
        "  \"top_k\": 0,\n",
        "  \"max_output_tokens\": 8192,\n",
        "}\n",
        "\n",
        "safety_settings = [\n",
        "  {\n",
        "    \"category\": \"HARM_CATEGORY_HARASSMENT\",\n",
        "    \"threshold\": \"BLOCK_MEDIUM_AND_ABOVE\"\n",
        "  },\n",
        "  {\n",
        "    \"category\": \"HARM_CATEGORY_HATE_SPEECH\",\n",
        "    \"threshold\": \"BLOCK_MEDIUM_AND_ABOVE\"\n",
        "  },\n",
        "  {\n",
        "    \"category\": \"HARM_CATEGORY_SEXUALLY_EXPLICIT\",\n",
        "    \"threshold\": \"BLOCK_MEDIUM_AND_ABOVE\"\n",
        "  },\n",
        "  {\n",
        "    \"category\": \"HARM_CATEGORY_DANGEROUS_CONTENT\",\n",
        "    \"threshold\": \"BLOCK_MEDIUM_AND_ABOVE\"\n",
        "  },\n",
        "]\n",
        "\n",
        "\n",
        "model = genai.GenerativeModel(model_name=MODEL_NAME,\n",
        "                              generation_config=generation_config,\n",
        "                              safety_settings=safety_settings)"
      ],
      "metadata": {
        "id": "QXBlKkVsbTeo"
      },
      "execution_count": 8,
      "outputs": []
    },
    {
      "cell_type": "markdown",
      "source": [
        "### 2.2 - Executando o modelo Gemini diretamente\n",
        "Os modelos Gemma podem gerar sentenças da seguinte forma,"
      ],
      "metadata": {
        "id": "R1pd-BdnbwVA"
      }
    },
    {
      "cell_type": "code",
      "source": [
        "response = model.generate_content(\n",
        "    \"Olá, sendo breve diga-me o que você é capaz de  fazer?\")\n",
        "print(response.text)\n"
      ],
      "metadata": {
        "colab": {
          "base_uri": "https://localhost:8080/",
          "height": 382
        },
        "id": "Inha55M0bUO_",
        "outputId": "389d7de8-92de-494e-8358-e1bb297a54a5"
      },
      "execution_count": 15,
      "outputs": [
        {
          "output_type": "stream",
          "name": "stdout",
          "text": [
            "Sou um modelo de linguagem grande, treinado pelo Google.\n",
            "\n",
            "**Posso:**\n",
            "\n",
            "* Gerar texto criativo e informativo\n",
            "* Responder a perguntas e fornecer informações\n",
            "* Traduzir idiomas\n",
            "* Resumir texto\n",
            "* Escrever diferentes tipos de conteúdo (e-mails, artigos, poemas, etc.)\n",
            "* Ajudar com tarefas de codificação\n",
            "* E muito mais!\n",
            "\n",
            "**Não posso:**\n",
            "\n",
            "* Pensar ou sentir emoções\n",
            "* Ter experiências do mundo real\n",
            "* Dar conselhos médicos ou financeiros\n",
            "* Substituir a interação humana\n",
            "\n",
            "Em resumo, sou uma ferramenta poderosa para comunicação e criação, mas não sou um ser humano. 😄\n",
            "\n"
          ]
        }
      ]
    },
    {
      "cell_type": "markdown",
      "source": [
        "## 3 - Dados de Exemplo\n",
        "### 3.1 - Importação dos Dados\n",
        "\n",
        "Antes de treinar o modelo para gerar resumos úteis dos chats, precisamos carregar e preparar o conjunto de dados que será utilizado. Nesta seção, vamos importar o conjunto de dados de exemplo, que contém interações de chat entre clientes e atendentes, bem como os resumos esperados.\n"
      ],
      "metadata": {
        "id": "iO-5C_g4b4Ok"
      }
    },
    {
      "cell_type": "code",
      "source": [
        "import pandas as pd\n",
        "\n",
        "# Carregar os dados de um arquivo Excel\n",
        "df_exemplos = pd.read_excel('dataset_exemplos.xlsx')"
      ],
      "metadata": {
        "id": "66hmYZ4AbURn"
      },
      "execution_count": 19,
      "outputs": []
    },
    {
      "cell_type": "markdown",
      "source": [
        "Quantos exemplos existem?"
      ],
      "metadata": {
        "id": "o__F-0ljp_fB"
      }
    },
    {
      "cell_type": "code",
      "source": [
        "print(df_exemplos.shape[0])"
      ],
      "metadata": {
        "colab": {
          "base_uri": "https://localhost:8080/"
        },
        "id": "sPItfeJypyNz",
        "outputId": "27f47563-7ef6-4cde-ed3c-7459dff91d91"
      },
      "execution_count": 18,
      "outputs": [
        {
          "output_type": "stream",
          "name": "stdout",
          "text": [
            "7\n"
          ]
        }
      ]
    },
    {
      "cell_type": "markdown",
      "source": [
        "OK, 7 exemplos para iniciarmos"
      ],
      "metadata": {
        "id": "o6wRGh0JqYY7"
      }
    },
    {
      "cell_type": "code",
      "source": [
        "display(df_exemplos)"
      ],
      "metadata": {
        "colab": {
          "base_uri": "https://localhost:8080/",
          "height": 269
        },
        "id": "ZlVmsx_5p4DA",
        "outputId": "0dbef154-c17a-4dc5-8c8b-3b49f55ab383"
      },
      "execution_count": 21,
      "outputs": [
        {
          "output_type": "display_data",
          "data": {
            "text/plain": [
              "                                               input  \\\n",
              "0  Isabela Gonçalves 09/05/2024 - Oi\\nAssistente ...   \n",
              "1  Paulo Martins 08/05/2024 - Boa noite  \\nAssist...   \n",
              "2  Carlos Silva 10/05/2024 - Boa noite\\nAssistent...   \n",
              "3  Mariana Souza 10/05/2024 - Ola boa tarde\\nAssi...   \n",
              "4  VIRTUAL Suporte 3 10/05/2024 - Boa tarde, tudo...   \n",
              "5  Carlos Almeida 10/05/2024 - Bom dia\\nAssistent...   \n",
              "6  Larissa Gomes 08/05/2024 - Oi\\nAssistente Virt...   \n",
              "\n",
              "                                              output  \n",
              "0  **Resumo do Atendimento: Isabela Gonçalves - 0...  \n",
              "1  **Resumo do Atendimento: Paulo Martins - 08/05...  \n",
              "2  ## Resumo do Atendimento: Carlos Silva - 10/05...  \n",
              "3  ## Resumo do Atendimento: Mariana Souza - 10/0...  \n",
              "4  ## Resumo do Atendimento: Gabriel Santos/Lucia...  \n",
              "5  ## Resumo do Atendimento: Carlos Almeida - 10/...  \n",
              "6  ## Resumo do Atendimento: Larissa Gomes - 08/0...  "
            ],
            "text/html": [
              "\n",
              "  <div id=\"df-35f850d2-c60a-4061-9e61-38d81bbd2326\" class=\"colab-df-container\">\n",
              "    <div>\n",
              "<style scoped>\n",
              "    .dataframe tbody tr th:only-of-type {\n",
              "        vertical-align: middle;\n",
              "    }\n",
              "\n",
              "    .dataframe tbody tr th {\n",
              "        vertical-align: top;\n",
              "    }\n",
              "\n",
              "    .dataframe thead th {\n",
              "        text-align: right;\n",
              "    }\n",
              "</style>\n",
              "<table border=\"1\" class=\"dataframe\">\n",
              "  <thead>\n",
              "    <tr style=\"text-align: right;\">\n",
              "      <th></th>\n",
              "      <th>input</th>\n",
              "      <th>output</th>\n",
              "    </tr>\n",
              "  </thead>\n",
              "  <tbody>\n",
              "    <tr>\n",
              "      <th>0</th>\n",
              "      <td>Isabela Gonçalves 09/05/2024 - Oi\\nAssistente ...</td>\n",
              "      <td>**Resumo do Atendimento: Isabela Gonçalves - 0...</td>\n",
              "    </tr>\n",
              "    <tr>\n",
              "      <th>1</th>\n",
              "      <td>Paulo Martins 08/05/2024 - Boa noite  \\nAssist...</td>\n",
              "      <td>**Resumo do Atendimento: Paulo Martins - 08/05...</td>\n",
              "    </tr>\n",
              "    <tr>\n",
              "      <th>2</th>\n",
              "      <td>Carlos Silva 10/05/2024 - Boa noite\\nAssistent...</td>\n",
              "      <td>## Resumo do Atendimento: Carlos Silva - 10/05...</td>\n",
              "    </tr>\n",
              "    <tr>\n",
              "      <th>3</th>\n",
              "      <td>Mariana Souza 10/05/2024 - Ola boa tarde\\nAssi...</td>\n",
              "      <td>## Resumo do Atendimento: Mariana Souza - 10/0...</td>\n",
              "    </tr>\n",
              "    <tr>\n",
              "      <th>4</th>\n",
              "      <td>VIRTUAL Suporte 3 10/05/2024 - Boa tarde, tudo...</td>\n",
              "      <td>## Resumo do Atendimento: Gabriel Santos/Lucia...</td>\n",
              "    </tr>\n",
              "    <tr>\n",
              "      <th>5</th>\n",
              "      <td>Carlos Almeida 10/05/2024 - Bom dia\\nAssistent...</td>\n",
              "      <td>## Resumo do Atendimento: Carlos Almeida - 10/...</td>\n",
              "    </tr>\n",
              "    <tr>\n",
              "      <th>6</th>\n",
              "      <td>Larissa Gomes 08/05/2024 - Oi\\nAssistente Virt...</td>\n",
              "      <td>## Resumo do Atendimento: Larissa Gomes - 08/0...</td>\n",
              "    </tr>\n",
              "  </tbody>\n",
              "</table>\n",
              "</div>\n",
              "    <div class=\"colab-df-buttons\">\n",
              "\n",
              "  <div class=\"colab-df-container\">\n",
              "    <button class=\"colab-df-convert\" onclick=\"convertToInteractive('df-35f850d2-c60a-4061-9e61-38d81bbd2326')\"\n",
              "            title=\"Convert this dataframe to an interactive table.\"\n",
              "            style=\"display:none;\">\n",
              "\n",
              "  <svg xmlns=\"http://www.w3.org/2000/svg\" height=\"24px\" viewBox=\"0 -960 960 960\">\n",
              "    <path d=\"M120-120v-720h720v720H120Zm60-500h600v-160H180v160Zm220 220h160v-160H400v160Zm0 220h160v-160H400v160ZM180-400h160v-160H180v160Zm440 0h160v-160H620v160ZM180-180h160v-160H180v160Zm440 0h160v-160H620v160Z\"/>\n",
              "  </svg>\n",
              "    </button>\n",
              "\n",
              "  <style>\n",
              "    .colab-df-container {\n",
              "      display:flex;\n",
              "      gap: 12px;\n",
              "    }\n",
              "\n",
              "    .colab-df-convert {\n",
              "      background-color: #E8F0FE;\n",
              "      border: none;\n",
              "      border-radius: 50%;\n",
              "      cursor: pointer;\n",
              "      display: none;\n",
              "      fill: #1967D2;\n",
              "      height: 32px;\n",
              "      padding: 0 0 0 0;\n",
              "      width: 32px;\n",
              "    }\n",
              "\n",
              "    .colab-df-convert:hover {\n",
              "      background-color: #E2EBFA;\n",
              "      box-shadow: 0px 1px 2px rgba(60, 64, 67, 0.3), 0px 1px 3px 1px rgba(60, 64, 67, 0.15);\n",
              "      fill: #174EA6;\n",
              "    }\n",
              "\n",
              "    .colab-df-buttons div {\n",
              "      margin-bottom: 4px;\n",
              "    }\n",
              "\n",
              "    [theme=dark] .colab-df-convert {\n",
              "      background-color: #3B4455;\n",
              "      fill: #D2E3FC;\n",
              "    }\n",
              "\n",
              "    [theme=dark] .colab-df-convert:hover {\n",
              "      background-color: #434B5C;\n",
              "      box-shadow: 0px 1px 3px 1px rgba(0, 0, 0, 0.15);\n",
              "      filter: drop-shadow(0px 1px 2px rgba(0, 0, 0, 0.3));\n",
              "      fill: #FFFFFF;\n",
              "    }\n",
              "  </style>\n",
              "\n",
              "    <script>\n",
              "      const buttonEl =\n",
              "        document.querySelector('#df-35f850d2-c60a-4061-9e61-38d81bbd2326 button.colab-df-convert');\n",
              "      buttonEl.style.display =\n",
              "        google.colab.kernel.accessAllowed ? 'block' : 'none';\n",
              "\n",
              "      async function convertToInteractive(key) {\n",
              "        const element = document.querySelector('#df-35f850d2-c60a-4061-9e61-38d81bbd2326');\n",
              "        const dataTable =\n",
              "          await google.colab.kernel.invokeFunction('convertToInteractive',\n",
              "                                                    [key], {});\n",
              "        if (!dataTable) return;\n",
              "\n",
              "        const docLinkHtml = 'Like what you see? Visit the ' +\n",
              "          '<a target=\"_blank\" href=https://colab.research.google.com/notebooks/data_table.ipynb>data table notebook</a>'\n",
              "          + ' to learn more about interactive tables.';\n",
              "        element.innerHTML = '';\n",
              "        dataTable['output_type'] = 'display_data';\n",
              "        await google.colab.output.renderOutput(dataTable, element);\n",
              "        const docLink = document.createElement('div');\n",
              "        docLink.innerHTML = docLinkHtml;\n",
              "        element.appendChild(docLink);\n",
              "      }\n",
              "    </script>\n",
              "  </div>\n",
              "\n",
              "\n",
              "<div id=\"df-ef164f7a-4a1b-4617-a7d7-7466ec8e3b93\">\n",
              "  <button class=\"colab-df-quickchart\" onclick=\"quickchart('df-ef164f7a-4a1b-4617-a7d7-7466ec8e3b93')\"\n",
              "            title=\"Suggest charts\"\n",
              "            style=\"display:none;\">\n",
              "\n",
              "<svg xmlns=\"http://www.w3.org/2000/svg\" height=\"24px\"viewBox=\"0 0 24 24\"\n",
              "     width=\"24px\">\n",
              "    <g>\n",
              "        <path d=\"M19 3H5c-1.1 0-2 .9-2 2v14c0 1.1.9 2 2 2h14c1.1 0 2-.9 2-2V5c0-1.1-.9-2-2-2zM9 17H7v-7h2v7zm4 0h-2V7h2v10zm4 0h-2v-4h2v4z\"/>\n",
              "    </g>\n",
              "</svg>\n",
              "  </button>\n",
              "\n",
              "<style>\n",
              "  .colab-df-quickchart {\n",
              "      --bg-color: #E8F0FE;\n",
              "      --fill-color: #1967D2;\n",
              "      --hover-bg-color: #E2EBFA;\n",
              "      --hover-fill-color: #174EA6;\n",
              "      --disabled-fill-color: #AAA;\n",
              "      --disabled-bg-color: #DDD;\n",
              "  }\n",
              "\n",
              "  [theme=dark] .colab-df-quickchart {\n",
              "      --bg-color: #3B4455;\n",
              "      --fill-color: #D2E3FC;\n",
              "      --hover-bg-color: #434B5C;\n",
              "      --hover-fill-color: #FFFFFF;\n",
              "      --disabled-bg-color: #3B4455;\n",
              "      --disabled-fill-color: #666;\n",
              "  }\n",
              "\n",
              "  .colab-df-quickchart {\n",
              "    background-color: var(--bg-color);\n",
              "    border: none;\n",
              "    border-radius: 50%;\n",
              "    cursor: pointer;\n",
              "    display: none;\n",
              "    fill: var(--fill-color);\n",
              "    height: 32px;\n",
              "    padding: 0;\n",
              "    width: 32px;\n",
              "  }\n",
              "\n",
              "  .colab-df-quickchart:hover {\n",
              "    background-color: var(--hover-bg-color);\n",
              "    box-shadow: 0 1px 2px rgba(60, 64, 67, 0.3), 0 1px 3px 1px rgba(60, 64, 67, 0.15);\n",
              "    fill: var(--button-hover-fill-color);\n",
              "  }\n",
              "\n",
              "  .colab-df-quickchart-complete:disabled,\n",
              "  .colab-df-quickchart-complete:disabled:hover {\n",
              "    background-color: var(--disabled-bg-color);\n",
              "    fill: var(--disabled-fill-color);\n",
              "    box-shadow: none;\n",
              "  }\n",
              "\n",
              "  .colab-df-spinner {\n",
              "    border: 2px solid var(--fill-color);\n",
              "    border-color: transparent;\n",
              "    border-bottom-color: var(--fill-color);\n",
              "    animation:\n",
              "      spin 1s steps(1) infinite;\n",
              "  }\n",
              "\n",
              "  @keyframes spin {\n",
              "    0% {\n",
              "      border-color: transparent;\n",
              "      border-bottom-color: var(--fill-color);\n",
              "      border-left-color: var(--fill-color);\n",
              "    }\n",
              "    20% {\n",
              "      border-color: transparent;\n",
              "      border-left-color: var(--fill-color);\n",
              "      border-top-color: var(--fill-color);\n",
              "    }\n",
              "    30% {\n",
              "      border-color: transparent;\n",
              "      border-left-color: var(--fill-color);\n",
              "      border-top-color: var(--fill-color);\n",
              "      border-right-color: var(--fill-color);\n",
              "    }\n",
              "    40% {\n",
              "      border-color: transparent;\n",
              "      border-right-color: var(--fill-color);\n",
              "      border-top-color: var(--fill-color);\n",
              "    }\n",
              "    60% {\n",
              "      border-color: transparent;\n",
              "      border-right-color: var(--fill-color);\n",
              "    }\n",
              "    80% {\n",
              "      border-color: transparent;\n",
              "      border-right-color: var(--fill-color);\n",
              "      border-bottom-color: var(--fill-color);\n",
              "    }\n",
              "    90% {\n",
              "      border-color: transparent;\n",
              "      border-bottom-color: var(--fill-color);\n",
              "    }\n",
              "  }\n",
              "</style>\n",
              "\n",
              "  <script>\n",
              "    async function quickchart(key) {\n",
              "      const quickchartButtonEl =\n",
              "        document.querySelector('#' + key + ' button');\n",
              "      quickchartButtonEl.disabled = true;  // To prevent multiple clicks.\n",
              "      quickchartButtonEl.classList.add('colab-df-spinner');\n",
              "      try {\n",
              "        const charts = await google.colab.kernel.invokeFunction(\n",
              "            'suggestCharts', [key], {});\n",
              "      } catch (error) {\n",
              "        console.error('Error during call to suggestCharts:', error);\n",
              "      }\n",
              "      quickchartButtonEl.classList.remove('colab-df-spinner');\n",
              "      quickchartButtonEl.classList.add('colab-df-quickchart-complete');\n",
              "    }\n",
              "    (() => {\n",
              "      let quickchartButtonEl =\n",
              "        document.querySelector('#df-ef164f7a-4a1b-4617-a7d7-7466ec8e3b93 button');\n",
              "      quickchartButtonEl.style.display =\n",
              "        google.colab.kernel.accessAllowed ? 'block' : 'none';\n",
              "    })();\n",
              "  </script>\n",
              "</div>\n",
              "\n",
              "  <div id=\"id_27620743-ef70-4f4a-993e-1b0abe02bb88\">\n",
              "    <style>\n",
              "      .colab-df-generate {\n",
              "        background-color: #E8F0FE;\n",
              "        border: none;\n",
              "        border-radius: 50%;\n",
              "        cursor: pointer;\n",
              "        display: none;\n",
              "        fill: #1967D2;\n",
              "        height: 32px;\n",
              "        padding: 0 0 0 0;\n",
              "        width: 32px;\n",
              "      }\n",
              "\n",
              "      .colab-df-generate:hover {\n",
              "        background-color: #E2EBFA;\n",
              "        box-shadow: 0px 1px 2px rgba(60, 64, 67, 0.3), 0px 1px 3px 1px rgba(60, 64, 67, 0.15);\n",
              "        fill: #174EA6;\n",
              "      }\n",
              "\n",
              "      [theme=dark] .colab-df-generate {\n",
              "        background-color: #3B4455;\n",
              "        fill: #D2E3FC;\n",
              "      }\n",
              "\n",
              "      [theme=dark] .colab-df-generate:hover {\n",
              "        background-color: #434B5C;\n",
              "        box-shadow: 0px 1px 3px 1px rgba(0, 0, 0, 0.15);\n",
              "        filter: drop-shadow(0px 1px 2px rgba(0, 0, 0, 0.3));\n",
              "        fill: #FFFFFF;\n",
              "      }\n",
              "    </style>\n",
              "    <button class=\"colab-df-generate\" onclick=\"generateWithVariable('df_exemplos')\"\n",
              "            title=\"Generate code using this dataframe.\"\n",
              "            style=\"display:none;\">\n",
              "\n",
              "  <svg xmlns=\"http://www.w3.org/2000/svg\" height=\"24px\"viewBox=\"0 0 24 24\"\n",
              "       width=\"24px\">\n",
              "    <path d=\"M7,19H8.4L18.45,9,17,7.55,7,17.6ZM5,21V16.75L18.45,3.32a2,2,0,0,1,2.83,0l1.4,1.43a1.91,1.91,0,0,1,.58,1.4,1.91,1.91,0,0,1-.58,1.4L9.25,21ZM18.45,9,17,7.55Zm-12,3A5.31,5.31,0,0,0,4.9,8.1,5.31,5.31,0,0,0,1,6.5,5.31,5.31,0,0,0,4.9,4.9,5.31,5.31,0,0,0,6.5,1,5.31,5.31,0,0,0,8.1,4.9,5.31,5.31,0,0,0,12,6.5,5.46,5.46,0,0,0,6.5,12Z\"/>\n",
              "  </svg>\n",
              "    </button>\n",
              "    <script>\n",
              "      (() => {\n",
              "      const buttonEl =\n",
              "        document.querySelector('#id_27620743-ef70-4f4a-993e-1b0abe02bb88 button.colab-df-generate');\n",
              "      buttonEl.style.display =\n",
              "        google.colab.kernel.accessAllowed ? 'block' : 'none';\n",
              "\n",
              "      buttonEl.onclick = () => {\n",
              "        google.colab.notebook.generateWithVariable('df_exemplos');\n",
              "      }\n",
              "      })();\n",
              "    </script>\n",
              "  </div>\n",
              "\n",
              "    </div>\n",
              "  </div>\n"
            ],
            "application/vnd.google.colaboratory.intrinsic+json": {
              "type": "dataframe",
              "variable_name": "df_exemplos",
              "summary": "{\n  \"name\": \"df_exemplos\",\n  \"rows\": 7,\n  \"fields\": [\n    {\n      \"column\": \"input\",\n      \"properties\": {\n        \"dtype\": \"string\",\n        \"num_unique_values\": 7,\n        \"samples\": [\n          \"Isabela Gon\\u00e7alves 09/05/2024 - Oi\\nAssistente Virtual 09/05/2024 - Boa noite, seja bem vindo ao atendimento da VIRTUAL NET.\\nAssistente Virtual 09/05/2024 - Em que posso te ajudar?\\nIsabela Gon\\u00e7alves 09/05/2024 - Minha internet\\nAssistente Virtual 09/05/2024 - Vamos resolver isso agora! Informe por gentileza o CPF ou CNPJ do titular do contrato.\\nIsabela Gon\\u00e7alves 09/05/2024 - T\\u00e1 lenta\\nAssistente Virtual 09/05/2024 - N\\u00e3o consegui compreender o seu CPF/CNPJ. Vamos tentar novamente! Preciso que me confirme, por favor, o seu CPF (11 d\\u00edgitos) ou CNPJ (14 d\\u00edgitos) completo, sem tra\\u00e7os ou pontos.\\nIsabela Gon\\u00e7alves 09/05/2024 - 123.456.789-01\\nAssistente Virtual 09/05/2024 - Selecione a cidade que deseja atendimento. 1 - Cidade A 2 - Cidade B 3 - Cidade C 4 - Cidade D 5 - Cidade E 6 - Cidade F 7 - Cidade G\\nIsabela Gon\\u00e7alves 09/05/2024 - Cidade D\",\n          \"Paulo Martins 08/05/2024 - Boa noite  \\nAssistente Virtual 08/05/2024 - Boa noite, seja bem vindo ao atendimento da VIRTUAL NET.  \\nAssistente Virtual 08/05/2024 - Em que posso te ajudar?  \\nPaulo Martins 08/05/2024 - Estou com a internet muito lenta  \\nAssistente Virtual 08/05/2024 - Vamos resolver isso agora! Informe por gentileza o CPF ou CNPJ do titular do contrato.  \\nPaulo Martins 08/05/2024 19:30:15\\n999.888.777-66\\nAssistente Virtual 08/05/2024 - Selecione a cidade que deseja atendimento. 1 - Cidade A 2 - Cidade B 3 - Cidade C 4 - Cidade D 5 - Cidade E 6 - Cidade F 7 - Cidade G\\nPaulo Martins 08/05/2024 - Cidade D\\nAssistente Virtual 08/05/2024 - Ser\\u00e1 necess\\u00e1rio transferir o seu atendimento para nossa equipe especializada que lhe dar\\u00e1 todo o suporte. Por favor, aguarde um momento...\\nPaulo Martins 08/05/2024 - Ok\\n\",\n          \"Carlos Almeida 10/05/2024 - Bom dia\\nAssistente Virtual 10/05/2024 - Boa noite, seja bem vindo ao atendimento da VIRTUAL NET.\\nAssistente Virtual 10/05/2024 - Em que posso te ajudar?\\nCarlos Almeida 10/05/2024 - Bem t\\u00f4 tentando ver com voc\\u00ea sobre minha internet que est\\u00e1 lenta. Ela \\u00e9 pra ser 300 mega mas parece que nem vem\\nAssistente Virtual 10/05/2024 - Vamos resolver isso agora! Informe por gentileza o CPF ou CNPJ do titular do contrato.\\nCarlos Almeida 10/05/2024 - Esse 300 megas\\nAssistente Virtual 10/05/2024 - N\\u00e3o consegui compreender o seu CPF/CNPJ. Vamos tentar novamente! Preciso que me confirme, por favor, o seu CPF (11 d\\u00edgitos) ou CNPJ (14 d\\u00edgitos) completo, sem tra\\u00e7os ou pontos.\\nCarlos Almeida 10/05/2024 - 123.456.789-01\\nAssistente Virtual 10/05/2024 - Escolha a seguir digitando a op\\u00e7\\u00e3o do contrato que deseja atendimento: 1 - Contrato: 12345 2 - Contrato: 67890\\nCarlos Almeida 10/05/2024 - 1\\nAssistente Virtual 10/05/2024 - Selecione a cidade que deseja atendimento. 1 - Cidade A 2 - Cidade B 3 - Cidade C 4 - Cidade D 5 - Cidade E 6 - Cidade F 7 - Cidade G\\nCarlos Almeida 10/05/2024 - 3\\nAssistente Virtual 10/05/2024 - Ser\\u00e1 necess\\u00e1rio transferir o seu atendimento para nossa equipe especializada que lhe dar\\u00e1 todo o suporte. Por favor, aguarde um momento...\\nCarlos Almeida 10/05/2024 - ?\\n\"\n        ],\n        \"semantic_type\": \"\",\n        \"description\": \"\"\n      }\n    },\n    {\n      \"column\": \"output\",\n      \"properties\": {\n        \"dtype\": \"string\",\n        \"num_unique_values\": 7,\n        \"samples\": [\n          \"**Resumo do Atendimento: Isabela Gon\\u00e7alves - 09/05/2024**\\n\\n**Problema Reportado:** Internet lenta.  \\n**Dados Coletados:**\\n\\n- **CPF:** 123.456.789-01\\n- **Cidade Escolhida:** Cidade D  \\n**Status Atual:** Aguardando diagn\\u00f3stico para resolver o problema de velocidade.  \\n**Observa\\u00e7\\u00f5es:** Considerar simplificar o processo de sele\\u00e7\\u00e3o da cidade para agilizar o atendimento.  \\n**Pr\\u00f3ximos Passos:**\\n- Verificar o cadastro do cliente, incluindo aspectos financeiros e t\\u00e9cnicos.\\n- Diagnosticar poss\\u00edveis problemas t\\u00e9cnicos na cidade D.\",\n          \"**Resumo do Atendimento: Paulo Martins - 08/05/2024**\\n\\n**Problema Reportado:** Internet muito lenta.  \\n**Dados Coletados:**\\n\\n- **CPF:** 999.888.777-66\\n- **Cidade Escolhida:** Cidade D  \\n**Status Atual:** Transferido para equipe especializada.  \\n**Observa\\u00e7\\u00f5es:** Nenhuma.  \\n**Pr\\u00f3ximos Passos:**\\n- Aguardar atendimento pela equipe especializada para diagn\\u00f3stico e solu\\u00e7\\u00e3o do problema.\\n\",\n          \"## Resumo do Atendimento: Carlos Almeida - 10/05/2024\\n\\n**Problema Reportado:** Internet lenta. Contratou 300Mbps, mas n\\u00e3o est\\u00e1 recebendo a velocidade contratada.\\n\\n**Dados Coletados:**\\n* CPF: 123.456.789-01\\n* Contrato: 12345\\n* Cidade Escolhida: Cidade C\\n\\n**Status Atual:** Transferido para equipe especializada.\\n\\n**Observa\\u00e7\\u00f5es:** Nenhuma.\\n\\n**Pr\\u00f3ximos Passos:**\\n* Aguardar atendimento pela equipe especializada para diagn\\u00f3stico e solu\\u00e7\\u00e3o do problema de lentid\\u00e3o.\\n* Verificar se h\\u00e1 problemas na entrega da velocidade contratada.\\n\"\n        ],\n        \"semantic_type\": \"\",\n        \"description\": \"\"\n      }\n    }\n  ]\n}"
            }
          },
          "metadata": {}
        }
      ]
    },
    {
      "cell_type": "markdown",
      "source": [
        "## 4 - Criando o Summarizer com Técnicas Avançadas de Engenharia de Prompt\n",
        "### 4.1 - Introdução às Técnicas\n",
        "Nesta seção, utilizaremos duas técnicas avançadas de engenharia de prompt apresentada na imerção para aprimorar a capacidade do modelo de gerar resumos eficazes a partir de interações de chat.\n",
        "\n",
        "- **Chain-of-Thought**: Esta técnica envolve a geração de uma série de passos de raciocínio intermediários que ajudam os modelos de linguagem a realizar tarefas complexas de raciocínio. Essencialmente, ela guia o modelo para pensar passo a passo, melhorando a qualidade das respostas geradas.\n",
        "\n",
        "- **Few-Shot Prompting**: Esta técnica explora a capacidade de modelos de linguagem, como o Gemini, para realizar tarefas com apenas alguns exemplos de treinamento. Ao invés de requerer grandes datasets para treinamento, apenas alguns exemplos são suficientes para instruir o modelo a realizar uma nova tarefa.\n",
        "\n",
        "### 4.2 - Configuração das Instruções de Chain-of-Thought\n",
        "\n",
        "O objetivo principal do modelo é otimizar o fluxo de atendimentos, gerando resumos concisos e diretamente relevantes que capturem as informações essenciais de cada interação. As instruções detalhadas abaixo guiarão o modelo no processo de geração de resumos, utilizando a técnica de Chain-of-Thought para estruturar o raciocínio de maneira lógica e sequencial.\n",
        "\n"
      ],
      "metadata": {
        "id": "y-YiWj4Cs5Za"
      }
    },
    {
      "cell_type": "code",
      "source": [
        "instructions = \"\"\"\n",
        "Como assistente de suporte, seu principal objetivo é otimizar o fluxo de\n",
        "atendimentos gerando resumos concisos e diretamente relevantes.\n",
        "Estes resumos devem incluir apenas as informações essenciais: solicitações do\n",
        "cliente, dados coletados, status atual do atendimento e próximos passos de\n",
        "maneira prática. Certifique-se de que cada interação esteja claramente\n",
        "documentada para evitar repetições desnecessárias e facilitar a transição entre\n",
        "atendentes. Baseie suas ações no contexto atual para agilizar cada passo do\n",
        "processo. Mantenha o resumo breve, direto e totalmente alinhado às necessidades\n",
        "expressas pelo cliente, garantindo uma comunicação eficaz e eficiente no suporte\n",
        "ao cliente. Primeiro, apresentarei a estrutura do resumo e exemplos de chats de\n",
        "atendimentos com seus respectivos resumos. Analise esses exemplos para\n",
        "compreender os pontos relevantes e a estrutura desejada antes de resumir o chat\n",
        "desafio proposto.\n",
        "\n",
        "\n",
        "ESTRUTURA DO RESULMO:\n",
        "\n",
        "Resumo do Atendimento: <NOME DO CONTATO> - <DATA-ATENDIMETNO>\n",
        "\n",
        "Problema Reportado:<DESCRIÇÃO SIMPLES DO COM MINIMO DE PALAVRAS POSSIVEIS>.\n",
        "Dados Coletados:\n",
        "     CPF: <CPF-CAPTURADO>\n",
        "     Cidade escolhida: <CIDADE>\n",
        "Status Atual: <STATUS ATUAL DO ATENDIMENTO>.\n",
        "Observações: <SUGESTÃO DE MELHORIA NO BOT SE HOUVER>.\n",
        "Próximos Passos:\n",
        "     <PROXIMOS PASSOS A SEREM FEITOS PELO ATENDENTE>\n",
        "\"\"\""
      ],
      "metadata": {
        "id": "SEzO-o28qx3t"
      },
      "execution_count": 22,
      "outputs": []
    },
    {
      "cell_type": "markdown",
      "source": [
        "### 4.3 - Implementação de Few-Shot Prompting\n",
        "Utilizaremos a técnica de Few-Shot Prompting para treinar o modelo a partir de poucos exemplos, demonstrando como gerar resumos a partir de interações reais. Cada exemplo no conjunto de dados servirá como um prompt para ensinar o modelo a sintetizar informações cruciais em um formato estruturado e útil.\n"
      ],
      "metadata": {
        "id": "QLqKGLKiwI_Q"
      }
    },
    {
      "cell_type": "code",
      "source": [
        "prompt_parts_base = [instructions]  # Incluir as instruções detalhadas\n",
        "\n",
        "for index, row in df_exemplos.iterrows():\n",
        "    # Cada entrada no dataframe é transformada em um prompt de treinamento\n",
        "    prompt_parts_base.append(\n",
        "        f\"input: EXEMPLO DE ATENDIMENTO {index + 1}:\\n{row['input']}\")\n",
        "    prompt_parts_base.append(\n",
        "        f\"output: RESUMO DO EXEMPLO DE ATENDIMENTO {index + 1}:\\n{row['output']}\")"
      ],
      "metadata": {
        "id": "0jnrhKfBbUWH"
      },
      "execution_count": 29,
      "outputs": []
    },
    {
      "cell_type": "code",
      "source": [
        "for part in prompt_parts_base[:3]:\n",
        "  print(part)"
      ],
      "metadata": {
        "colab": {
          "base_uri": "https://localhost:8080/"
        },
        "id": "Y39ahct0wmKt",
        "outputId": "622f1705-4368-4139-9331-3328b0179d43"
      },
      "execution_count": 30,
      "outputs": [
        {
          "output_type": "stream",
          "name": "stdout",
          "text": [
            "\n",
            "Como assistente de suporte, seu principal objetivo é otimizar o fluxo de \n",
            "atendimentos gerando resumos concisos e diretamente relevantes. \n",
            "Estes resumos devem incluir apenas as informações essenciais: solicitações do \n",
            "cliente, dados coletados, status atual do atendimento e próximos passos de \n",
            "maneira prática. Certifique-se de que cada interação esteja claramente \n",
            "documentada para evitar repetições desnecessárias e facilitar a transição entre \n",
            "atendentes. Baseie suas ações no contexto atual para agilizar cada passo do \n",
            "processo. Mantenha o resumo breve, direto e totalmente alinhado às necessidades \n",
            "expressas pelo cliente, garantindo uma comunicação eficaz e eficiente no suporte \n",
            "ao cliente. Primeiro vou lhe mostrar a estrutura do resumo e exemplos de chats \n",
            "de atendimentos junto com exemplos de resumos gerados apartir de cada chat, \n",
            "em seguida analise os exemplos e entenda os pontos relevantes e a estrutura \n",
            "desejada, e porfim resuma o chat proposto.\n",
            "\n",
            "ESTRUTURA DO RESULMO:\n",
            "\n",
            "Resumo do Atendimento: <NOME DO CONTATO> - <DATA-ATENDIMETNO>\n",
            "\n",
            "Problema Reportado:<DESCRIÇÃO SIMPLES DO COM MINIMO DE PALAVRAS POSSIVEIS>.\n",
            "Dados Coletados:\n",
            "     CPF: <CPF-CAPTURADO>\n",
            "     Cidade escolhida: <CIDADE>\n",
            "Status Atual: <STATUS ATUAL DO ATENDIMENTO>.\n",
            "Observações: <SUGESTÃO DE MELHORIA NO BOT SE HOUVER>.\n",
            "Próximos Passos:\n",
            "     <PROXIMOS PASSOS A SEREM FEITOS PELO ATENDENTE>\n",
            "\n",
            "input: EXEMPLO DE ATENDIMENTO 1:\n",
            "Isabela Gonçalves 09/05/2024 - Oi\n",
            "Assistente Virtual 09/05/2024 - Boa noite, seja bem vindo ao atendimento da VIRTUAL NET.\n",
            "Assistente Virtual 09/05/2024 - Em que posso te ajudar?\n",
            "Isabela Gonçalves 09/05/2024 - Minha internet\n",
            "Assistente Virtual 09/05/2024 - Vamos resolver isso agora! Informe por gentileza o CPF ou CNPJ do titular do contrato.\n",
            "Isabela Gonçalves 09/05/2024 - Tá lenta\n",
            "Assistente Virtual 09/05/2024 - Não consegui compreender o seu CPF/CNPJ. Vamos tentar novamente! Preciso que me confirme, por favor, o seu CPF (11 dígitos) ou CNPJ (14 dígitos) completo, sem traços ou pontos.\n",
            "Isabela Gonçalves 09/05/2024 - 123.456.789-01\n",
            "Assistente Virtual 09/05/2024 - Selecione a cidade que deseja atendimento. 1 - Cidade A 2 - Cidade B 3 - Cidade C 4 - Cidade D 5 - Cidade E 6 - Cidade F 7 - Cidade G\n",
            "Isabela Gonçalves 09/05/2024 - Cidade D\n",
            "output: RESUMO DO EXEMPLO DE ATENDIMENTO 1:\n",
            "**Resumo do Atendimento: Isabela Gonçalves - 09/05/2024**\n",
            "\n",
            "**Problema Reportado:** Internet lenta.  \n",
            "**Dados Coletados:**\n",
            "\n",
            "- **CPF:** 123.456.789-01\n",
            "- **Cidade Escolhida:** Cidade D  \n",
            "**Status Atual:** Aguardando diagnóstico para resolver o problema de velocidade.  \n",
            "**Observações:** Considerar simplificar o processo de seleção da cidade para agilizar o atendimento.  \n",
            "**Próximos Passos:**\n",
            "- Verificar o cadastro do cliente, incluindo aspectos financeiros e técnicos.\n",
            "- Diagnosticar possíveis problemas técnicos na cidade D.\n"
          ]
        }
      ]
    },
    {
      "cell_type": "markdown",
      "source": [
        "As instruções e exemplos configurados aqui são fundamentais para direcionar o modelo na aprendizagem de como transformar diálogos complexos em resumos claros e concisos, fundamentais para otimizar a experiência de atendimento ao cliente.\n",
        "\n",
        "\n",
        "Essa formatação melhora a legibilidade e a organização das instruções, além de deixar claros os objetivos e a metodologia que seu modelo deve seguir para gerar resumos eficazes.\n"
      ],
      "metadata": {
        "id": "vZa-Fqsfxsxq"
      }
    },
    {
      "cell_type": "markdown",
      "source": [
        "##5 - Sumarização de Chats\n",
        "###5.1 - Configuração do Prompt de Sumarização\n",
        "Vamos preparar um prompt de sumarização que integra tanto o input (a interação de chat) quanto o processo de raciocínio (Chain-of-Thought), seguido pelo pedido de geração do resumo. Essa etapa utiliza os prompts de treinamento que preparamos anteriormente para guiar o modelo na geração de resumos úteis."
      ],
      "metadata": {
        "id": "D_LX8EwRzQxD"
      }
    },
    {
      "cell_type": "code",
      "execution_count": 7,
      "metadata": {
        "colab": {
          "base_uri": "https://localhost:8080/",
          "height": 365
        },
        "id": "ylMvmIiEJ2_g",
        "outputId": "bd52aae5-6dae-4dad-9d0c-1777b60a7205"
      },
      "outputs": [
        {
          "output_type": "display_data",
          "data": {
            "text/plain": [
              "<IPython.core.display.Markdown object>"
            ],
            "text/markdown": "> ## Resumo do Atendimento: Laura Silva - 10/05/2024\n> \n> **Solicitação Inicial:** Efetuar pagamento.\n> \n> **Dados Coletados:**\n> * CPF: 123.456.789-01\n> * Boleto visualizado: Vencimento 10/04/2024\n> * Cidade Escolhida: Cidade A\n> \n> **Status Atual:** \n> * Cliente visualizou boleto de vencimento 10/04/2024.\n> * Cliente solicitou contato com atendente.\n> * Transferido para equipe especializada (Plantão 1 - Carlos).\n> * Cliente solicitou chave PIX para pagamento.\n> * Transferido para equipe financeira (VIRTUAL financeiro 1).\n> \n> **Observações:** Nenhuma.\n> \n> **Próximos Passos:**\n> * Equipe financeira deve gerar e fornecer a chave PIX para a cliente. \n"
          },
          "metadata": {}
        }
      ],
      "source": [
        "chat_challenge_1 = \"\"\"\n",
        "Laura Silva 10/05/2024 - Boa noite\n",
        "Assistente Virtual 10/05/2024 - Boa noite, seja bem vindo ao atendimento da VIRTUAL NET.\n",
        "Assistente Virtual 10/05/2024 - Em que posso te ajudar?\n",
        "Laura Silva 10/05/2024 - Quero efetuar pagamento\n",
        "Assistente Virtual 10/05/2024 - Informe por gentileza o CPF ou CNPJ do titular do contrato.\n",
        "Laura Silva 10/05/2024 - 123.456.789-01\n",
        "Assistente Virtual 10/05/2024 - Por favor, selecione um boleto abaixo: 1 - Vencimento: 10/04/2024 2 - Vencimento: 10/05/2024 3 - Vencimento: 10/06/2024\n",
        "Laura Silva 10/05/2024 - 1\n",
        "Assistente Virtual 10/05/2024 - Segue abaixo as informações do seu boleto: [Link Fictício]\n",
        "Assistente Virtual 10/05/2024 - Eu posso te ajudar em algo mais 😊? 1 - Sim 2 - Não 3 - Outro boleto 4 - Falar com um atendente\n",
        "Laura Silva 10/05/2024 - Falar com um atendente\n",
        "Assistente Virtual 10/05/2024 - Selecione a cidade que deseja atendimento. 1 - Cidade A 2 - Cidade B 3 - Cidade C 4 - Cidade D 5 - Cidade E 6 - Cidade F 7 - Cidade G\n",
        "Laura Silva 10/05/2024 - Cidade A\n",
        "Assistente Virtual 10/05/2024 - Será necessário transferir o seu atendimento para nossa equipe especializada que lhe dará todo o suporte. Por favor, aguarde um momento...\n",
        "Plantão 1 10/05/2024 - Olá Laura, Boa noite! ☺️ Aqui quem fala é o Carlos, da equipe de atendimento, tudo bom?\n",
        "Plantão 1 10/05/2024 - Laura, como eu posso te ajudar hoje?\n",
        "Laura Silva 10/05/2024 - Boa noite tudo bem\n",
        "Laura Silva 10/05/2024 - Quero o pix de vocês para efetuar o pagamento da parcela\n",
        "Plantão 1 10/05/2024 - Entendi Laura, terei que encaminhar seu atendimento para o financeiro providenciar a chave pix, tá bem?\n",
        "Assistente Virtual 10/05/2024 - Transferido para VIRTUAL financeiro 1\n",
        "\"\"\"\n",
        "\n",
        "prompt_parts_chat_1 = prompt_parts_base + [\n",
        "  f\"input: CHAT DESAFIO: {chat_challenge_1}\",\n",
        "  \"output: \"\n",
        "]"
      ]
    },
    {
      "cell_type": "markdown",
      "source": [
        "### 5.2 - Execução do Modelo para Geração de Sumário\n",
        "Agora, vamos utilizar o modelo configurado para gerar o sumário do desafio proposto, baseando-se no prompt completo que inclui o raciocínio e o exemplo do chat desafio."
      ],
      "metadata": {
        "id": "_IU1BVP70jAt"
      }
    },
    {
      "cell_type": "code",
      "source": [
        "response = model.generate_content(prompt_parts_chat_1)\n",
        "print(response.text)"
      ],
      "metadata": {
        "colab": {
          "base_uri": "https://localhost:8080/",
          "height": 364
        },
        "id": "6N9nmNnY0bf6",
        "outputId": "5c67f0ca-64ed-4c70-84a4-082f0480b18f"
      },
      "execution_count": 31,
      "outputs": [
        {
          "output_type": "stream",
          "name": "stdout",
          "text": [
            "## Resumo do Atendimento: Laura Silva - 10/05/2024\n",
            "\n",
            "**Solicitação Inicial:** Efetuar pagamento.\n",
            "\n",
            "**Dados Coletados:**\n",
            "* CPF: 123.456.789-01\n",
            "* Boleto visualizado: Vencimento 10/04/2024\n",
            "* Cidade Escolhida: Cidade A\n",
            "\n",
            "**Status Atual:** \n",
            "* Cliente solicitou contato com atendente após visualizar boleto.\n",
            "* Transferido para equipe especializada (Plantão 1 - Carlos).\n",
            "* Cliente solicitou chave PIX para pagamento.\n",
            "* Transferido para o setor financeiro (VIRTUAL financeiro 1).\n",
            "\n",
            "**Observações:** Nenhuma.\n",
            "\n",
            "**Próximos Passos:**\n",
            "* Aguardar atendimento do setor financeiro (VIRTUAL financeiro 1) para fornecer a chave PIX e finalizar o pagamento. \n",
            "\n"
          ]
        }
      ]
    },
    {
      "cell_type": "markdown",
      "source": [
        "### 5.3 - Visualização de Resumos com Markdown\n",
        "Para melhorar a visualização e a leitura dos resumos gerados pelo nosso modelo, utilizamos uma função especial em Python que converte texto simples em formato Markdown, aplicando indentação e substituindo caracteres específicos para melhorar a formatação visual no Jupyter Notebook. Essa abordagem é especialmente útil para destacar informações importantes de maneira clara e organizada, tornando a análise dos resultados mais acessível e compreensível.\n"
      ],
      "metadata": {
        "id": "bwc3uGFMz8_A"
      }
    },
    {
      "cell_type": "code",
      "source": [
        "\n",
        "import pandas as pd\n",
        "import textwrap\n",
        "from IPython.display import display\n",
        "from IPython.display import Markdown\n",
        "\n",
        "def to_markdown(text):\n",
        "  text = text.replace('•', '  *')\n",
        "  return Markdown(textwrap.indent(text, '> ', predicate=lambda _: True))\n",
        "\n",
        "\n",
        "display(to_markdown(response.text))"
      ],
      "metadata": {
        "colab": {
          "base_uri": "https://localhost:8080/",
          "height": 348
        },
        "id": "UoSNcgj5qMnw",
        "outputId": "53b1e31c-c8ad-474e-ca20-a6d71f625a4d"
      },
      "execution_count": 32,
      "outputs": [
        {
          "output_type": "display_data",
          "data": {
            "text/plain": [
              "<IPython.core.display.Markdown object>"
            ],
            "text/markdown": "> ## Resumo do Atendimento: Laura Silva - 10/05/2024\n> \n> **Solicitação Inicial:** Efetuar pagamento.\n> \n> **Dados Coletados:**\n> * CPF: 123.456.789-01\n> * Boleto visualizado: Vencimento 10/04/2024\n> * Cidade Escolhida: Cidade A\n> \n> **Status Atual:** \n> * Cliente solicitou contato com atendente após visualizar boleto.\n> * Transferido para equipe especializada (Plantão 1 - Carlos).\n> * Cliente solicitou chave PIX para pagamento.\n> * Transferido para o setor financeiro (VIRTUAL financeiro 1).\n> \n> **Observações:** Nenhuma.\n> \n> **Próximos Passos:**\n> * Aguardar atendimento do setor financeiro (VIRTUAL financeiro 1) para fornecer a chave PIX e finalizar o pagamento. \n"
          },
          "metadata": {}
        }
      ]
    },
    {
      "cell_type": "code",
      "source": [
        "chat_challenge_2 = \"\"\"\n",
        "Rogerio Ulka 09/05/2024 - Olá\n",
        "Assistente Virtual 09/05/2024 - Boa tarde, seja bem vindo ao atendimento da VIRTUAL NET.\n",
        "Assistente Virtual 09/05/2024 - Em que posso te ajudar?\n",
        "Rogerio Ulka 09/05/2024 - Gostaria de saber valores dos planos\n",
        "Assistente Virtual 09/05/2024 - Selecione a cidade que deseja atendimento. 1 - Cidade A 2 - Cidade B 3 - Cidade C 4 - Cidade D 5 - Cidade E 6 - Cidade F 7 - Cidade G\n",
        "Rogerio Ulka 09/05/2024 - E taxa de instalação\n",
        "Assistente Virtual 09/05/2024 - Digite uma opção válida por gentileza.\n",
        "Assistente Virtual 09/05/2024 - Selecione a cidade que deseja atendimento. 1 - Cidade A 2 - Cidade B 3 - Cidade C 4 - Cidade D 5 - Cidade E 6 - Cidade F 7 - Cidade G\n",
        "Rogerio Ulka 09/05/2024 - Cidade D\n",
        "Assistente Virtual 09/05/2024 - Será necessário transferir o seu atendimento para nossa equipe especializada que lhe dará toda a atenção merecida. Por favor, aguarde um momento...\n",
        "Comercial VIRTUAL 1 09/05/2024 - Boa tarde, em que posso ajudar?\n",
        "Rogerio Ulka 09/05/2024 - Gostaria de saber quais os planos vocês oferecem\n",
        "Rogerio Ulka 09/05/2024 - E se tem taxa de instalação\n",
        "Comercial VIRTUAL 1 09/05/2024 - Qual seria seu endereço?\n",
        "Rogerio Ulka 09/05/2024 - Estrada do Sol km 84\n",
        "\"\"\"\n",
        "\n",
        "prompt_parts_chat_2 = prompt_parts_base + [\n",
        "  f\"input: CHAT DESAFIO: {chat_challenge_2}\",\n",
        "  \"output: \"\n",
        "]\n",
        "\n",
        "response = model.generate_content(prompt_parts_chat_2)\n",
        "display(to_markdown(response.text))"
      ],
      "metadata": {
        "colab": {
          "base_uri": "https://localhost:8080/",
          "height": 296
        },
        "id": "zTPAOwla1EpG",
        "outputId": "e6160bec-93a0-44eb-f585-65c0d3ab842f"
      },
      "execution_count": 36,
      "outputs": [
        {
          "output_type": "display_data",
          "data": {
            "text/plain": [
              "<IPython.core.display.Markdown object>"
            ],
            "text/markdown": "> ## Resumo do Atendimento: Rogerio Ulka - 09/05/2024\n> \n> **Solicitação:** Consultar valores dos planos e taxa de instalação.\n> \n> **Dados Coletados:**\n> * Cidade Escolhida: Cidade D\n> * Endereço: Estrada do Sol km 84\n> \n> **Status Atual:** Transferido para equipe especializada (Comercial VIRTUAL 1).\n> \n> **Observações:** \n> * Bot solicitou a cidade antes da solicitação completa do cliente, o que pode ser otimizado.\n> \n> **Próximos Passos:**\n> * Consultar a disponibilidade de planos e valores para o endereço informado.\n> * Informar ao cliente os planos disponíveis e seus respectivos valores, incluindo a taxa de instalação. \n"
          },
          "metadata": {}
        }
      ]
    },
    {
      "cell_type": "markdown",
      "source": [
        "## 6 - Conclusão\n",
        "\n",
        "Este projeto demonstrou a capacidade do modelo Gemini, combinado com técnicas avançadas de engenharia de prompt como Chain-of-Thought e Few-Shot Prompting, para otimizar o atendimento ao cliente através da sumarização de interações de chat. Ao implementar essas técnicas, conseguimos reduzir significativamente o tempo necessário para que atendentes compreendam o contexto de cada atendimento, melhorando tanto a eficiência do processo quanto a experiência do usuário final.\n",
        "\n",
        "### 6.1 - Principais Aprendizados\n",
        "- A aplicação de técnicas de IA avançadas pode transformar processos de atendimento ao cliente, tornando-os mais rápidos e eficazes.\n",
        "- A preparação e estruturação de dados são fundamentais para treinar modelos de linguagem de forma eficiente.\n",
        "\n",
        "### 6.2 - Próximos Passos\n",
        "- Realizar mais testes com diferentes configurações de modelos para explorar formas de aumentar ainda mais a precisão dos resumos.\n",
        "- Expandir o dataset de treinamento com mais exemplos para melhorar a generalização do modelo.\n",
        "- Investigar a integração deste sistema com plataformas de atendimento ao cliente em tempo real para avaliar a aplicabilidade prática em ambientes empresariais.\n",
        "- Desenvolver extensões de navegador com um chat que possam acessar automaticamente as conversas em contexto nas plataformas de atendimento. Essas extensões poderiam automatizar o envio de conversas ao modelo e o recebimento de resumos, proporcionando aos atendentes uma visão imediata e precisa do contexto do cliente assim que abrem um atendimento, potencializando ainda mais a eficiência do processo.\n",
        "\n",
        "\n",
        "Ao continuar desenvolvendo e aprimorando ferramentas como o GemHelper, podemos esperar um impacto cada vez maior na forma como as empresas interagem com seus clientes, levando a uma satisfação significativamente melhorada e a operações mais eficientes.\n"
      ],
      "metadata": {
        "id": "Q6j7Arsb6egQ"
      }
    }
  ]
}